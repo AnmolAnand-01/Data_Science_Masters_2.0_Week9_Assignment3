{
 "cells": [
  {
   "cell_type": "markdown",
   "id": "8f38d672-c5b0-4bbd-ae8b-61c632f86c8f",
   "metadata": {},
   "source": [
    "**Consider following code to answer further questions:**\n",
    "\n",
    "**import pandas as pd**\n",
    "\n",
    "**course_name = [‘Data Science’, ‘Machine Learning’, ‘Big Data’, ‘Data Engineer’]**\n",
    "\n",
    "**duration = [2,3,6,4]**\n",
    "\n",
    "**df = pd.DataFrame(data = {‘course_name’ : course_name, ‘duration’ : duration})**"
   ]
  },
  {
   "cell_type": "code",
   "execution_count": 33,
   "id": "a0e3fe45-ce0f-4468-8e47-c301d9ff7bc0",
   "metadata": {},
   "outputs": [],
   "source": [
    "import pandas as pd\n",
    "course_name = ['Data Science', 'Machine Learning', 'Big Data', 'Data Engineer']\n",
    "duration = [2,3,6,4]\n",
    "df = pd.DataFrame(data = {'course_name' : course_name, 'duration' : duration})"
   ]
  },
  {
   "cell_type": "markdown",
   "id": "dd1b7e36-3fcf-4f20-acf5-6e23e24d5f60",
   "metadata": {},
   "source": [
    "**Q1. Write a code to print the data present in the second row of the dataframe, df.**"
   ]
  },
  {
   "cell_type": "code",
   "execution_count": 34,
   "id": "64e384c4-5a77-42f5-ab06-48b8f0a7a1c4",
   "metadata": {},
   "outputs": [
    {
     "name": "stdout",
     "output_type": "stream",
     "text": [
      "(1, course_name    Machine Learning\n",
      "duration                      3\n",
      "Name: 1, dtype: object)\n"
     ]
    }
   ],
   "source": [
    "cnt=0\n",
    "for i in df.iterrows():\n",
    "    cnt+=1\n",
    "    if cnt==2:\n",
    "        print(i)\n",
    "        break"
   ]
  },
  {
   "cell_type": "markdown",
   "id": "41c8d9a2-1def-4c2f-9863-2032ac5ba4ab",
   "metadata": {},
   "source": [
    "The above code uses \"df.iterrows()\" to iterate through each row and prints the data present in second row, and then breaks the for loop."
   ]
  },
  {
   "cell_type": "code",
   "execution_count": 35,
   "id": "2ff2a76b-021f-42b8-a930-b99b2ef66ff5",
   "metadata": {},
   "outputs": [
    {
     "name": "stdout",
     "output_type": "stream",
     "text": [
      "course_name    Machine Learning\n",
      "duration                      3\n",
      "Name: 1, dtype: object\n"
     ]
    }
   ],
   "source": [
    "print(df.iloc[1])"
   ]
  },
  {
   "cell_type": "markdown",
   "id": "01bfdfef-1ac8-4ea9-8d4e-b79930fc2fb8",
   "metadata": {},
   "source": [
    "The above code uses \"df.iloc()\" (integer-location based indexing) to locate and print the second row. The index of second row is 1 we we have passed 1 to \"df.iloc()\""
   ]
  },
  {
   "cell_type": "markdown",
   "id": "5daa208f-7048-45a0-94cc-611549c8a8f3",
   "metadata": {},
   "source": [
    "**Q2. What is the difference between the functions loc and iloc in pandas.DataFrame?**"
   ]
  },
  {
   "cell_type": "markdown",
   "id": "f43de721-b280-441f-b552-dcaf266703de",
   "metadata": {},
   "source": [
    "In Pandas, both \"loc\" and \"iloc\" are used for indexing and selecting data from a DataFrame, but they differ in how they perform the selection.\n",
    "\n",
    "1. loc: This function is primarily label-based, meaning it selects data based on the labels of rows and columns. It uses the row and column labels to perform the selection. When using loc, we refer to the index and column names explicitly.\n",
    "\n",
    "2. iloc: This function is integer-location based, meaning it selects data based on the integer indices of rows and columns. It uses the numerical indices to perform the selection. When using iloc, we refer to the integer position of the rows and columns"
   ]
  },
  {
   "cell_type": "code",
   "execution_count": 36,
   "id": "0526703e-9968-45a9-bd07-7435f6ee7ccf",
   "metadata": {},
   "outputs": [
    {
     "name": "stdout",
     "output_type": "stream",
     "text": [
      "course_name    Machine Learning\n",
      "duration                      3\n",
      "Name: 1, dtype: object\n",
      "\n",
      "\n",
      "Machine Learning\n",
      "\n",
      "\n",
      "course_name    Machine Learning\n",
      "duration                      3\n",
      "Name: 1, dtype: object\n",
      "\n",
      "\n",
      "Machine Learning\n"
     ]
    }
   ],
   "source": [
    "# Selecting a specific row by label/index\n",
    "print(df.loc[1])  # Selects the row with index label 1\n",
    "print(\"\\n\")\n",
    "\n",
    "# Selecting a specific value by label for a specific row and column\n",
    "print(df.loc[1, 'course_name'])  # Selects the value in the 'course_name' column of the row with index label 1\n",
    "print(\"\\n\")\n",
    "\n",
    "# Selecting a specific row by integer index\n",
    "print(df.iloc[1])  # Selects the row at the integer index position 1\n",
    "print(\"\\n\")\n",
    "\n",
    "# Selecting a specific value by integer index for a specific row and column\n",
    "print(df.iloc[1, 0])  # Selects the value in the second column of the second row (index-based)\n"
   ]
  },
  {
   "cell_type": "markdown",
   "id": "d46ae08e-cfc4-46af-9cf9-b1b815ad8a07",
   "metadata": {},
   "source": [
    "**Q3. Reindex the given dataframe using a variable, reindex = [3,0,1,2] and store it in the variable, new_df\n",
    "then find the output for both new_df.loc[2] and new_df.iloc[2].**\n",
    "\n",
    "**Did you observe any difference in both the outputs? If so then explain it.**\n",
    "\n",
    "**Consider the below code to answer further questions:**\n",
    "\n",
    "**import pandas as pd**\n",
    "\n",
    "**import numpy as np**\n",
    "\n",
    "**columns = ['column_1', 'column_2', 'column_3', 'column_4', 'column_5', 'column_6']**\n",
    "\n",
    "**indices = [1,2,3,4,5,6]**\n",
    "\n",
    "**#Creating a dataframe:**\n",
    "\n",
    "**df1 = pd.DataFrame(np.random.rand(6,6), columns = columns, index = indices)**"
   ]
  },
  {
   "cell_type": "code",
   "execution_count": 37,
   "id": "3a85bd5e-4411-4b46-9ba3-23eca8a50637",
   "metadata": {},
   "outputs": [],
   "source": [
    "import pandas as pd\n",
    "import numpy as np\n",
    "columns = ['column_1', 'column_2', 'column_3', 'column_4', 'column_5', 'column_6']\n",
    "indices = [1,2,3,4,5,6]\n",
    "#Creating a dataframe:\n",
    "df1 = pd.DataFrame(np.random.rand(6,6), columns = columns, index = indices)"
   ]
  },
  {
   "cell_type": "code",
   "execution_count": 38,
   "id": "b03a1c46-dce2-4c69-a276-92f2337b17f3",
   "metadata": {},
   "outputs": [
    {
     "data": {
      "text/html": [
       "<div>\n",
       "<style scoped>\n",
       "    .dataframe tbody tr th:only-of-type {\n",
       "        vertical-align: middle;\n",
       "    }\n",
       "\n",
       "    .dataframe tbody tr th {\n",
       "        vertical-align: top;\n",
       "    }\n",
       "\n",
       "    .dataframe thead th {\n",
       "        text-align: right;\n",
       "    }\n",
       "</style>\n",
       "<table border=\"1\" class=\"dataframe\">\n",
       "  <thead>\n",
       "    <tr style=\"text-align: right;\">\n",
       "      <th></th>\n",
       "      <th>column_1</th>\n",
       "      <th>column_2</th>\n",
       "      <th>column_3</th>\n",
       "      <th>column_4</th>\n",
       "      <th>column_5</th>\n",
       "      <th>column_6</th>\n",
       "    </tr>\n",
       "  </thead>\n",
       "  <tbody>\n",
       "    <tr>\n",
       "      <th>1</th>\n",
       "      <td>0.677883</td>\n",
       "      <td>0.284639</td>\n",
       "      <td>0.201887</td>\n",
       "      <td>0.627068</td>\n",
       "      <td>0.596547</td>\n",
       "      <td>0.185280</td>\n",
       "    </tr>\n",
       "    <tr>\n",
       "      <th>2</th>\n",
       "      <td>0.469903</td>\n",
       "      <td>0.358423</td>\n",
       "      <td>0.657833</td>\n",
       "      <td>0.898916</td>\n",
       "      <td>0.395929</td>\n",
       "      <td>0.445494</td>\n",
       "    </tr>\n",
       "    <tr>\n",
       "      <th>3</th>\n",
       "      <td>0.272162</td>\n",
       "      <td>0.520624</td>\n",
       "      <td>0.567026</td>\n",
       "      <td>0.216143</td>\n",
       "      <td>0.368706</td>\n",
       "      <td>0.453488</td>\n",
       "    </tr>\n",
       "    <tr>\n",
       "      <th>4</th>\n",
       "      <td>0.590234</td>\n",
       "      <td>0.237973</td>\n",
       "      <td>0.718374</td>\n",
       "      <td>0.212588</td>\n",
       "      <td>0.094640</td>\n",
       "      <td>0.347420</td>\n",
       "    </tr>\n",
       "    <tr>\n",
       "      <th>5</th>\n",
       "      <td>0.749737</td>\n",
       "      <td>0.904141</td>\n",
       "      <td>0.406663</td>\n",
       "      <td>0.530184</td>\n",
       "      <td>0.969567</td>\n",
       "      <td>0.471575</td>\n",
       "    </tr>\n",
       "    <tr>\n",
       "      <th>6</th>\n",
       "      <td>0.539643</td>\n",
       "      <td>0.259993</td>\n",
       "      <td>0.602073</td>\n",
       "      <td>0.337528</td>\n",
       "      <td>0.548412</td>\n",
       "      <td>0.884827</td>\n",
       "    </tr>\n",
       "  </tbody>\n",
       "</table>\n",
       "</div>"
      ],
      "text/plain": [
       "   column_1  column_2  column_3  column_4  column_5  column_6\n",
       "1  0.677883  0.284639  0.201887  0.627068  0.596547  0.185280\n",
       "2  0.469903  0.358423  0.657833  0.898916  0.395929  0.445494\n",
       "3  0.272162  0.520624  0.567026  0.216143  0.368706  0.453488\n",
       "4  0.590234  0.237973  0.718374  0.212588  0.094640  0.347420\n",
       "5  0.749737  0.904141  0.406663  0.530184  0.969567  0.471575\n",
       "6  0.539643  0.259993  0.602073  0.337528  0.548412  0.884827"
      ]
     },
     "execution_count": 38,
     "metadata": {},
     "output_type": "execute_result"
    }
   ],
   "source": [
    "df1"
   ]
  },
  {
   "cell_type": "code",
   "execution_count": 39,
   "id": "50e86ea6-6b5a-4660-b671-ba0d9415cd13",
   "metadata": {},
   "outputs": [
    {
     "data": {
      "text/html": [
       "<div>\n",
       "<style scoped>\n",
       "    .dataframe tbody tr th:only-of-type {\n",
       "        vertical-align: middle;\n",
       "    }\n",
       "\n",
       "    .dataframe tbody tr th {\n",
       "        vertical-align: top;\n",
       "    }\n",
       "\n",
       "    .dataframe thead th {\n",
       "        text-align: right;\n",
       "    }\n",
       "</style>\n",
       "<table border=\"1\" class=\"dataframe\">\n",
       "  <thead>\n",
       "    <tr style=\"text-align: right;\">\n",
       "      <th></th>\n",
       "      <th>column_1</th>\n",
       "      <th>column_2</th>\n",
       "      <th>column_3</th>\n",
       "      <th>column_4</th>\n",
       "      <th>column_5</th>\n",
       "      <th>column_6</th>\n",
       "    </tr>\n",
       "  </thead>\n",
       "  <tbody>\n",
       "    <tr>\n",
       "      <th>3</th>\n",
       "      <td>0.272162</td>\n",
       "      <td>0.520624</td>\n",
       "      <td>0.567026</td>\n",
       "      <td>0.216143</td>\n",
       "      <td>0.368706</td>\n",
       "      <td>0.453488</td>\n",
       "    </tr>\n",
       "    <tr>\n",
       "      <th>0</th>\n",
       "      <td>NaN</td>\n",
       "      <td>NaN</td>\n",
       "      <td>NaN</td>\n",
       "      <td>NaN</td>\n",
       "      <td>NaN</td>\n",
       "      <td>NaN</td>\n",
       "    </tr>\n",
       "    <tr>\n",
       "      <th>1</th>\n",
       "      <td>0.677883</td>\n",
       "      <td>0.284639</td>\n",
       "      <td>0.201887</td>\n",
       "      <td>0.627068</td>\n",
       "      <td>0.596547</td>\n",
       "      <td>0.185280</td>\n",
       "    </tr>\n",
       "    <tr>\n",
       "      <th>2</th>\n",
       "      <td>0.469903</td>\n",
       "      <td>0.358423</td>\n",
       "      <td>0.657833</td>\n",
       "      <td>0.898916</td>\n",
       "      <td>0.395929</td>\n",
       "      <td>0.445494</td>\n",
       "    </tr>\n",
       "  </tbody>\n",
       "</table>\n",
       "</div>"
      ],
      "text/plain": [
       "   column_1  column_2  column_3  column_4  column_5  column_6\n",
       "3  0.272162  0.520624  0.567026  0.216143  0.368706  0.453488\n",
       "0       NaN       NaN       NaN       NaN       NaN       NaN\n",
       "1  0.677883  0.284639  0.201887  0.627068  0.596547  0.185280\n",
       "2  0.469903  0.358423  0.657833  0.898916  0.395929  0.445494"
      ]
     },
     "execution_count": 39,
     "metadata": {},
     "output_type": "execute_result"
    }
   ],
   "source": [
    "newIndex=[3,0,1,2]\n",
    "new_df=df1.reindex(newIndex)\n",
    "new_df"
   ]
  },
  {
   "cell_type": "code",
   "execution_count": 40,
   "id": "ab3cf5a1-58ef-4e3b-95b6-fed957b2c489",
   "metadata": {},
   "outputs": [
    {
     "name": "stdout",
     "output_type": "stream",
     "text": [
      "column_1    0.469903\n",
      "column_2    0.358423\n",
      "column_3    0.657833\n",
      "column_4    0.898916\n",
      "column_5    0.395929\n",
      "column_6    0.445494\n",
      "Name: 2, dtype: float64\n",
      "\n",
      "\n",
      "column_1    0.677883\n",
      "column_2    0.284639\n",
      "column_3    0.201887\n",
      "column_4    0.627068\n",
      "column_5    0.596547\n",
      "column_6    0.185280\n",
      "Name: 1, dtype: float64\n"
     ]
    }
   ],
   "source": [
    "print(new_df.loc[2])\n",
    "\n",
    "print('\\n')\n",
    "\n",
    "print(new_df.iloc[2])"
   ]
  },
  {
   "cell_type": "markdown",
   "id": "03ea6668-7089-46bc-bccd-5cdc3f4e7eb2",
   "metadata": {},
   "source": [
    "'loc()'  is primarily label-based, meaning it selects data based on the labels of rows and columns. On reindexing the data present at row-index 2 in dataframe \"df1\" is shifted to row-index 4 in dataframe \"new_df\", but the row-label of the data present at row-index 4 in dataframe \"new_df\" is still 2. SO when we invoke the statement \"new_df_loc[2]\" locates the data present at row-index 4 with row-label 2 of the dataframe \"new_df\".\n",
    "\n",
    "'iloc()' is integer-location based, meaning it selects data based on the integer indices of rows and columns. On reindexing the data present at row-index2 in dataframe \"df1\" is shifted to row-index 4 in dataframe \"new_df\", and the data present at row-index 2 in dataframe \"new_df\" is actually the data present at row-index 0 in dataframe \"df1\" with row-label 1.  "
   ]
  },
  {
   "cell_type": "markdown",
   "id": "dc94e1b3-1c3a-484e-85b1-e8fdfd327081",
   "metadata": {},
   "source": [
    "**Q4. Write a code to find the following statistical measurements for the above dataframe df1:**\n",
    "\n",
    "**(i) mean of each and every column present in the dataframe.**\n",
    "\n",
    "**(ii) standard deviation of column, ‘column_2’**"
   ]
  },
  {
   "cell_type": "code",
   "execution_count": 41,
   "id": "055a48ff-b00f-4f00-8d47-d936ab61253f",
   "metadata": {},
   "outputs": [
    {
     "name": "stdout",
     "output_type": "stream",
     "text": [
      "Mean of  column_1 :  0.5499271057041423\n",
      "Mean of  column_2 :  0.42763203005071865\n",
      "Mean of  column_3 :  0.5256426550338887\n",
      "Mean of  column_4 :  0.4704045140154442\n",
      "Mean of  column_5 :  0.49563371992063\n",
      "Mean of  column_6 :  0.46468049769663616\n",
      "\n",
      "Standard Deviation of column_2:  0.46468049769663616\n"
     ]
    }
   ],
   "source": [
    "for series_name,series in df1.items():\n",
    "    print(\"Mean of \",series_name,\": \",series.mean())\n",
    "    \n",
    "print(\"\\nStandard Deviation of column_2: \",series.mean())"
   ]
  },
  {
   "cell_type": "markdown",
   "id": "b3ff7073-ac10-485a-a6ff-b85d0bd788d9",
   "metadata": {},
   "source": [
    "**Q5. Replace the data present in the second row of column, ‘column_2’ by a string variable then find the\n",
    "mean of column, column_2.**\n",
    "\n",
    "**If you are getting errors in executing it then explain why.**\n",
    "\n",
    "**[Hint: To replace the data use df1.loc[] and equate this to string data of your choice.]**"
   ]
  },
  {
   "cell_type": "code",
   "execution_count": 42,
   "id": "a100cb80-8467-4406-80e9-4fff4ff1372f",
   "metadata": {},
   "outputs": [],
   "source": [
    "df1.loc[2,'column_2'] = \"PwSkills\""
   ]
  },
  {
   "cell_type": "code",
   "execution_count": 43,
   "id": "c90bcc1d-06ff-4fa9-b223-769f04ed0b73",
   "metadata": {},
   "outputs": [
    {
     "data": {
      "text/html": [
       "<div>\n",
       "<style scoped>\n",
       "    .dataframe tbody tr th:only-of-type {\n",
       "        vertical-align: middle;\n",
       "    }\n",
       "\n",
       "    .dataframe tbody tr th {\n",
       "        vertical-align: top;\n",
       "    }\n",
       "\n",
       "    .dataframe thead th {\n",
       "        text-align: right;\n",
       "    }\n",
       "</style>\n",
       "<table border=\"1\" class=\"dataframe\">\n",
       "  <thead>\n",
       "    <tr style=\"text-align: right;\">\n",
       "      <th></th>\n",
       "      <th>column_1</th>\n",
       "      <th>column_2</th>\n",
       "      <th>column_3</th>\n",
       "      <th>column_4</th>\n",
       "      <th>column_5</th>\n",
       "      <th>column_6</th>\n",
       "    </tr>\n",
       "  </thead>\n",
       "  <tbody>\n",
       "    <tr>\n",
       "      <th>1</th>\n",
       "      <td>0.677883</td>\n",
       "      <td>0.284639</td>\n",
       "      <td>0.201887</td>\n",
       "      <td>0.627068</td>\n",
       "      <td>0.596547</td>\n",
       "      <td>0.185280</td>\n",
       "    </tr>\n",
       "    <tr>\n",
       "      <th>2</th>\n",
       "      <td>0.469903</td>\n",
       "      <td>PwSkills</td>\n",
       "      <td>0.657833</td>\n",
       "      <td>0.898916</td>\n",
       "      <td>0.395929</td>\n",
       "      <td>0.445494</td>\n",
       "    </tr>\n",
       "    <tr>\n",
       "      <th>3</th>\n",
       "      <td>0.272162</td>\n",
       "      <td>0.520624</td>\n",
       "      <td>0.567026</td>\n",
       "      <td>0.216143</td>\n",
       "      <td>0.368706</td>\n",
       "      <td>0.453488</td>\n",
       "    </tr>\n",
       "    <tr>\n",
       "      <th>4</th>\n",
       "      <td>0.590234</td>\n",
       "      <td>0.237973</td>\n",
       "      <td>0.718374</td>\n",
       "      <td>0.212588</td>\n",
       "      <td>0.094640</td>\n",
       "      <td>0.347420</td>\n",
       "    </tr>\n",
       "    <tr>\n",
       "      <th>5</th>\n",
       "      <td>0.749737</td>\n",
       "      <td>0.904141</td>\n",
       "      <td>0.406663</td>\n",
       "      <td>0.530184</td>\n",
       "      <td>0.969567</td>\n",
       "      <td>0.471575</td>\n",
       "    </tr>\n",
       "    <tr>\n",
       "      <th>6</th>\n",
       "      <td>0.539643</td>\n",
       "      <td>0.259993</td>\n",
       "      <td>0.602073</td>\n",
       "      <td>0.337528</td>\n",
       "      <td>0.548412</td>\n",
       "      <td>0.884827</td>\n",
       "    </tr>\n",
       "  </tbody>\n",
       "</table>\n",
       "</div>"
      ],
      "text/plain": [
       "   column_1  column_2  column_3  column_4  column_5  column_6\n",
       "1  0.677883  0.284639  0.201887  0.627068  0.596547  0.185280\n",
       "2  0.469903  PwSkills  0.657833  0.898916  0.395929  0.445494\n",
       "3  0.272162  0.520624  0.567026  0.216143  0.368706  0.453488\n",
       "4  0.590234  0.237973  0.718374  0.212588  0.094640  0.347420\n",
       "5  0.749737  0.904141  0.406663  0.530184  0.969567  0.471575\n",
       "6  0.539643  0.259993  0.602073  0.337528  0.548412  0.884827"
      ]
     },
     "execution_count": 43,
     "metadata": {},
     "output_type": "execute_result"
    }
   ],
   "source": [
    "df1"
   ]
  },
  {
   "cell_type": "code",
   "execution_count": 46,
   "id": "eb4053e0-5465-4c82-ae9a-b2e09bf6c5e6",
   "metadata": {},
   "outputs": [
    {
     "name": "stdout",
     "output_type": "stream",
     "text": [
      "TypeError occured:  unsupported operand type(s) for +: 'float' and 'str'\n"
     ]
    }
   ],
   "source": [
    "try:\n",
    "    print(df1['column_2'].mean())\n",
    "except TypeError as e:\n",
    "    print(\"TypeError occured: \",e)"
   ]
  },
  {
   "cell_type": "markdown",
   "id": "b697c108-9440-4928-af16-588d84328fbc",
   "metadata": {},
   "source": [
    "Mean represents the average value of the column that is the mean value is the sum of all the elements in the column divided by the total number of elements in the column. So the elements of the column must be of numeric data type, but the second element of the column \"column_2\" has been changed to a string so the mean of colunm_2 cannot be calculated and hence \"TypeError\" will be thrown."
   ]
  },
  {
   "cell_type": "markdown",
   "id": "811306e6-78eb-484f-94e8-906852cb9ba6",
   "metadata": {},
   "source": [
    "**Q6. What do you understand about the windows function in pandas and list the types of windows\n",
    "functions?**"
   ]
  },
  {
   "cell_type": "markdown",
   "id": "20a4690c-f6f1-4a73-8cec-3eb4c8454bb2",
   "metadata": {},
   "source": [
    "In Pandas, window functions are powerful tools used for performing various operations on a set of data over a specified window or range. These functions allow for computations over sliding in a DataFrame or Series.\n",
    "\n",
    "There are various type of window functions, Following are a few of them:\n",
    "\n",
    "rolling(): Compute a rolling window of values.\n",
    "\n",
    "rolling().mean(), rolling().sum(), rolling().min(), rolling().max(): Computes the mean, sum, min and max values respectively over rolling windows of specified sizes.\n",
    "\n",
    "rolling().std(), rolling().var(): Calculate the rolling standard deviation or variance of values.\n",
    "\n",
    "cumsum(): Computes the cumulative sum upto the present value in a rolling manner."
   ]
  },
  {
   "cell_type": "code",
   "execution_count": 51,
   "id": "6d6ce6c9-a603-4ff6-b02a-58baf9938392",
   "metadata": {},
   "outputs": [
    {
     "name": "stdout",
     "output_type": "stream",
     "text": [
      "Original DataFrame:\n",
      "   Sales       Date\n",
      "0    202 2023-01-11\n",
      "1    206 2023-01-12\n",
      "2    210 2023-01-13\n",
      "3    214 2023-01-14\n",
      "4    218 2023-01-15\n",
      "5    222 2023-01-16\n",
      "6    226 2023-01-17\n",
      "7    230 2023-01-18\n",
      "8    234 2023-01-19\n",
      "9    238 2023-01-20\n",
      "\n",
      "DataFrame after adding the new column:\n",
      "   Sales       Date  MovAvg  MovSum  MovMin  MovMax    MovStd     MovVar  \\\n",
      "0    202 2023-01-11     NaN     NaN     NaN     NaN       NaN        NaN   \n",
      "1    206 2023-01-12     NaN     NaN     NaN     NaN       NaN        NaN   \n",
      "2    210 2023-01-13     NaN     NaN     NaN     NaN       NaN        NaN   \n",
      "3    214 2023-01-14     NaN     NaN     NaN     NaN       NaN        NaN   \n",
      "4    218 2023-01-15     NaN     NaN     NaN     NaN       NaN        NaN   \n",
      "5    222 2023-01-16     NaN     NaN     NaN     NaN       NaN        NaN   \n",
      "6    226 2023-01-17   214.0  1498.0   202.0   226.0  8.640988  74.666667   \n",
      "7    230 2023-01-18   218.0  1526.0   206.0   230.0  8.640988  74.666667   \n",
      "8    234 2023-01-19   222.0  1554.0   210.0   234.0  8.640988  74.666667   \n",
      "9    238 2023-01-20   226.0  1582.0   214.0   238.0  8.640988  74.666667   \n",
      "\n",
      "   MovCumSum  \n",
      "0        202  \n",
      "1        408  \n",
      "2        618  \n",
      "3        832  \n",
      "4       1050  \n",
      "5       1272  \n",
      "6       1498  \n",
      "7       1728  \n",
      "8       1962  \n",
      "9       2200  \n"
     ]
    }
   ],
   "source": [
    "import pandas as pd\n",
    "\n",
    "date=pd.date_range(\"2023-01-11\",\"2023-01-20\")\n",
    "sales=[i*2 for i in range(101,121,2)]\n",
    "data={\"Sales\":sales,\n",
    "      \"Date\":date}\n",
    "df=pd.DataFrame(data)\n",
    "print(\"Original DataFrame:\")\n",
    "print(df)\n",
    "\n",
    "def avg_sales(df):\n",
    "    df['MovAvg']=df['Sales'].rolling(window=7).mean()\n",
    "    df['MovSum']=df['Sales'].rolling(window=7).sum()\n",
    "    df['MovMin']=df['Sales'].rolling(window=7).min()\n",
    "    df['MovMax']=df['Sales'].rolling(window=7).max()\n",
    "    df['MovStd']=df['Sales'].rolling(window=7).std()\n",
    "    df['MovVar']=df['Sales'].rolling(window=7).var()\n",
    "    df['MovCumSum']=df['Sales'].cumsum()\n",
    "    return df\n",
    "\n",
    "new_df=avg_sales(df)\n",
    "print(\"\\nDataFrame after adding the new column:\")\n",
    "print(new_df)"
   ]
  },
  {
   "cell_type": "markdown",
   "id": "0c07e8c2-701b-43ef-bd35-4b60f6591c8d",
   "metadata": {},
   "source": [
    "**Q7. Write a code to print only the current month and year at the time of answering this question.**\n",
    "\n",
    "**[Hint: Use pandas.datetime function]**"
   ]
  },
  {
   "cell_type": "code",
   "execution_count": 67,
   "id": "0e4161d7-7e3f-47f1-9fc8-5b7ee95e8240",
   "metadata": {},
   "outputs": [
    {
     "name": "stdout",
     "output_type": "stream",
     "text": [
      "Year of answering the questin: 2023\n",
      "Month of answering the questin: December\n"
     ]
    }
   ],
   "source": [
    "import pandas as pd\n",
    "\n",
    "current_date = pd.Timestamp.now().date()\n",
    "print(\"Year of answering the questin:\", current_date.year)\n",
    "print(\"Month of answering the questin:\", current_date.strftime('%B'))\n"
   ]
  },
  {
   "cell_type": "markdown",
   "id": "3bb2a2aa-ae59-4747-baa9-146fe03e49bb",
   "metadata": {},
   "source": [
    "**Q8. Write a Python program that takes in two dates as input (in the format YYYY-MM-DD) and\n",
    "calculates the difference between them in days, hours, and minutes using Pandas time delta. The\n",
    "program should prompt the user to enter the dates and display the result.**"
   ]
  },
  {
   "cell_type": "code",
   "execution_count": 81,
   "id": "30b63b59-e72b-4829-a5cb-994b50394b2b",
   "metadata": {},
   "outputs": [
    {
     "name": "stdin",
     "output_type": "stream",
     "text": [
      "Enter the first date in 'YYYY-MM-DD' format:  2023-10-10\n",
      "Enter the second date in 'YYYY-MM-DD' format:  2023-10-15\n"
     ]
    },
    {
     "name": "stdout",
     "output_type": "stream",
     "text": [
      "2023-10-10 00:00:00\n",
      "2023-10-15 00:00:00\n",
      "The difference between the two dates is 5 days, 0 hours, 0 minutes.\n"
     ]
    }
   ],
   "source": [
    "import pandas as pd\n",
    "\n",
    "date1=input(\"Enter the first date in 'YYYY-MM-DD' format: \")\n",
    "date2=input(\"Enter the second date in 'YYYY-MM-DD' format: \")\n",
    "\n",
    "date1=pd.to_datetime(date1)\n",
    "date2=pd.to_datetime(date2)\n",
    "print(date1)\n",
    "print(date2)\n",
    "\n",
    "diff=pd.Timedelta(date2-date1)\n",
    "print(\"The difference between the two dates is\",diff.days,\"days,\",diff.seconds//3600,\"hours,\",(diff.seconds % 3600) // 60 ,\"minutes.\")"
   ]
  },
  {
   "cell_type": "markdown",
   "id": "577db460-f759-4f35-bcb2-bc9ef2309fda",
   "metadata": {},
   "source": [
    "**Q9. Write a Python program that reads a CSV file containing categorical data and converts a specified\n",
    "column to a categorical data type. The program should prompt the user to enter the file path, column\n",
    "name, and category order, and then display the sorted data.**"
   ]
  },
  {
   "cell_type": "code",
   "execution_count": 25,
   "id": "f203deb6-a4a9-4a77-a432-e1f078f398ed",
   "metadata": {},
   "outputs": [
    {
     "name": "stdin",
     "output_type": "stream",
     "text": [
      "Enter the CSV file path:  Q9_sample_data.csv\n",
      "Enter the column name to convert to categorical:  category\n",
      "Enter the category order (comma-separated):  Banana, Apple, Orange\n"
     ]
    },
    {
     "name": "stdout",
     "output_type": "stream",
     "text": [
      "Sorted Data:\n",
      "   id category\n",
      "2   3   Banana\n",
      "4   5   Banana\n",
      "0   1    Apple\n",
      "3   4    Apple\n",
      "1   2   Orange\n",
      "5   6   Orange\n"
     ]
    }
   ],
   "source": [
    "import pandas as pd\n",
    "\n",
    "# Function to convert column to categorical data type and display sorted data\n",
    "def convert_to_categorical():\n",
    "    file_path = input(\"Enter the CSV file path: \")  # Take user input for CSV file path (Q9_sample_data.csv)\n",
    "    column_name = input(\"Enter the column name to convert to categorical: \")  # Take user input for column name (category)\n",
    "    category_order = input(\"Enter the category order (comma-separated): \")  # Take user input for category order (Orange, Banana, Apple)\n",
    "\n",
    "    try:\n",
    "        # Read the CSV file\n",
    "        data = pd.read_csv(file_path)\n",
    "\n",
    "        # Convert the specified column to categorical with user-defined category order\n",
    "        categories = [cat.strip() for cat in category_order.split(',')]\n",
    "        # print(type(data[column_name]))\n",
    "        data[column_name] = pd.Categorical(data[column_name], categories=categories, ordered=True)\n",
    "        # print(type(data[column_name]))\n",
    "        # print(data)\n",
    "        # Sort the data based on the specified column\n",
    "        sorted_data = data.sort_values(by=column_name)\n",
    "\n",
    "        # Display the sorted data\n",
    "        print(\"Sorted Data:\")\n",
    "        print(sorted_data)\n",
    "\n",
    "    except FileNotFoundError:\n",
    "        print(\"File not found. Please enter a valid file path.\")\n",
    "    except KeyError:\n",
    "        print(\"Column not found in the dataset. Please enter a valid column name.\")\n",
    "\n",
    "# Calling the function\n",
    "convert_to_categorical()\n"
   ]
  },
  {
   "cell_type": "markdown",
   "id": "5093a197-e9aa-4645-b525-7150aa88e9a8",
   "metadata": {},
   "source": [
    "**Q10. Write a Python program that reads a CSV file containing sales data for different products and\n",
    "visualizes the data using a stacked bar chart to show the sales of each product category over time. The\n",
    "program should prompt the user to enter the file path and display the chart.**"
   ]
  },
  {
   "cell_type": "code",
   "execution_count": 21,
   "id": "d7634ed1-2026-4512-ad78-031a108b0c9e",
   "metadata": {},
   "outputs": [
    {
     "name": "stdin",
     "output_type": "stream",
     "text": [
      "Enter the CSV file path:  Q10_SalesData.csv\n"
     ]
    },
    {
     "data": {
      "image/png": "[encoded data removed]",
      "text/plain": [
       "<Figure size 1000x600 with 1 Axes>"
      ]
     },
     "metadata": {},
     "output_type": "display_data"
    }
   ],
   "source": [
    "import pandas as pd\n",
    "import matplotlib.pyplot as plt\n",
    "\n",
    "# Function to visualize sales data using a stacked bar chart\n",
    "def visualize_sales_data():\n",
    "    file_path = input(\"Enter the CSV file path: \")  # Prompt user for CSV file path (Q10_SalesData.csv)\n",
    "\n",
    "    try:\n",
    "        # Read the CSV file\n",
    "        data = pd.read_csv(file_path)\n",
    "\n",
    "        # Convert 'Date' column to datetime format\n",
    "        data['Date'] = pd.to_datetime(data['Date'])\n",
    "\n",
    "        # Group by 'Date' and 'Product', summing up the 'Units_Sold' column\n",
    "        grouped_data = data.groupby(['Date', 'Product'])['Units_Sold'].sum().unstack()\n",
    "        # print(grouped_data)\n",
    "        # grouped_data1 = data.groupby(['Date', 'Product'])['Units_Sold'].sum()\n",
    "        # print(grouped_data1)\n",
    "        # Plotting the stacked bar chart\n",
    "        stacked_plot = grouped_data.plot(kind='bar', stacked=True, figsize=(10, 6))\n",
    "        stacked_plot.set_xlabel('Date')\n",
    "        stacked_plot.set_ylabel('Units Sold')\n",
    "        stacked_plot.set_title('Stacked Bar Chart of Sales by Product over Time')\n",
    "\n",
    "        plt.legend(title='Product', bbox_to_anchor=(1.05, 1), loc='upper left')  # Place legend outside the plot\n",
    "        plt.tight_layout()\n",
    "        plt.show()\n",
    "\n",
    "    except FileNotFoundError:\n",
    "        print(\"File not found. Please enter a valid file path.\")\n",
    "\n",
    "# Calling the function to visualize sales data\n",
    "visualize_sales_data()\n"
   ]
  },
  {
   "cell_type": "markdown",
   "id": "5fc7a231-22fa-40c0-9a68-4225218c69ce",
   "metadata": {},
   "source": [
    "**Q11. You are given a CSV file containing student data that includes the student ID and their test score. Writea Python program that reads the CSV file, calculates the mean, median, and mode of the test scores, and\n",
    "displays the results in a table.**\n",
    "\n",
    "The program should do the following:\n",
    "\n",
    "Prompt the user to enter the file path of the CSV file containing the student data.\n",
    "\n",
    "Read the CSV file into a Pandas DataFrame.\n",
    "\n",
    "Calculate the mean, median, and mode of the test scores using Pandas tools.\n",
    "\n",
    "Display the mean, median, and mode in a table.\n",
    "\n",
    "Assume the CSV file contains the following columns:\n",
    "\n",
    "Student ID: The ID of the student.\n",
    "\n",
    "Test Score: The score of the student's test.\n",
    "\n",
    "Example usage of the program:\n",
    "\n",
    "Enter the file path of the CSV file containing the student data: student_data.csv\n",
    "\n",
    "+-----------+--------+\n",
    "\n",
    "| Statistic | Value |\n",
    "\n",
    "+-----------+--------+\n",
    "\n",
    "| Mean | 79.6 |\n",
    "\n",
    "| Median | 82 |\n",
    "\n",
    "| Mode | 85, 90 |\n",
    "\n",
    "+-----------+--------+\n",
    "\n",
    "Assume that the CSV file student_data.csv contains the following data:\n",
    "\n",
    "Student ID,Test Score\n",
    "\n",
    "1,85\n",
    "\n",
    "2,90\n",
    "\n",
    "3,80\n",
    "\n",
    "4,75\n",
    "\n",
    "5,85\n",
    "\n",
    "6,82\n",
    "\n",
    "7,78\n",
    "\n",
    "8,85\n",
    "\n",
    "9,90\n",
    "\n",
    "10,85\n",
    "\n",
    "The program should calculate the mean, median, and mode of the test scores and display the results in a table."
   ]
  },
  {
   "cell_type": "code",
   "execution_count": 20,
   "id": "da526c78-1ede-429c-81ef-61a80e65f7cd",
   "metadata": {},
   "outputs": [
    {
     "name": "stdin",
     "output_type": "stream",
     "text": [
      "Enter the file path of the CSV file containing the student data:  Q11_Student_data.csv\n"
     ]
    },
    {
     "name": "stdout",
     "output_type": "stream",
     "text": [
      "Statistic Value\n",
      "     Mean  83.5\n",
      "   Median  85.0\n",
      "     Mode    85\n"
     ]
    }
   ],
   "source": [
    "import pandas as pd\n",
    "\n",
    "# Function to calculate mean, median, and mode of test scores from a CSV file\n",
    "def calculate_statistics():\n",
    "    file_path = input(\"Enter the file path of the CSV file containing the student data: \") # Q11_Student_data.csv\n",
    "\n",
    "    try:\n",
    "        # Read CSV file into a Pandas DataFrame\n",
    "        df = pd.read_csv(file_path)\n",
    "\n",
    "        # Calculate mean, median, and mode of the 'Test Score' column\n",
    "        mean_score = df['Test Score'].mean()\n",
    "        median_score = df['Test Score'].median()\n",
    "        mode_scores = df['Test Score'].mode()\n",
    "\n",
    "        # Prepare data for display in a table\n",
    "        statistics = {\n",
    "            'Statistic': ['Mean', 'Median', 'Mode'],\n",
    "            'Value': [mean_score, median_score, ', '.join(map(str, mode_scores))]\n",
    "        }\n",
    "\n",
    "        # Display results in a table format\n",
    "        df_statistics = pd.DataFrame(statistics)\n",
    "        print(df_statistics.to_string(index=False))\n",
    "        # print(df_statistics)\n",
    "\n",
    "    except FileNotFoundError:\n",
    "        print(\"File not found. Please enter a valid file path.\")\n",
    "    except KeyError:\n",
    "        print(\"Ensure that the CSV file contains columns 'Student ID' and 'Test Score'.\")\n",
    "\n",
    "# Call the function to calculate statistics\n",
    "calculate_statistics()\n"
   ]
  },
  {
   "cell_type": "code",
   "execution_count": null,
   "id": "54deec6e-b334-43d6-bb78-c308bdcd5919",
   "metadata": {},
   "outputs": [],
   "source": []
  }
 ],
 "metadata": {
  "kernelspec": {
   "display_name": "Python 3 (ipykernel)",
   "language": "python",
   "name": "python3"
  },
  "language_info": {
   "codemirror_mode": {
    "name": "ipython",
    "version": 3
   },
   "file_extension": ".py",
   "mimetype": "text/x-python",
   "name": "python",
   "nbconvert_exporter": "python",
   "pygments_lexer": "ipython3",
   "version": "3.10.8"
  }
 },
 "nbformat": 4,
 "nbformat_minor": 5
}
